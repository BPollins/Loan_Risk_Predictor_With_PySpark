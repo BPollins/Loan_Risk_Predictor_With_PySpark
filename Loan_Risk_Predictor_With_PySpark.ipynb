{
 "cells": [
  {
   "cell_type": "markdown",
   "id": "e7a9d598",
   "metadata": {},
   "source": [
    "# Loan Risk Predictor with PySpark\n",
    "### Predicting if a customer will default on their loan based on the following customer data:\n",
    "\n",
    "1. Applicant_ID: Unique identifier for each loan applicant.\n",
    "2. Annual_Income: Annual income of the loan applicant.\n",
    "3. Applicant_Age: Age of the loan applicant.\n",
    "4. Work_Experience: Number of years of work experience of the loan applicant.\n",
    "5. Marital_Status: Marital status of the loan applicant.\n",
    "6. House_Ownership: Ownership status of the applicant's residence.\n",
    "7. Vehicle_Ownership(car): Ownership status of the applicant's vehicle.\n",
    "8. Occupation: Profession or occupation of the loan applicant.\n",
    "9. Residence_City: City where the loan applicant resides.\n",
    "10. Residence_State: State where the loan applicant resides.\n",
    "11. Years_in_Current_Employment: Number of years the applicant has been in their current job.\n",
    "12. Years_in_Current_Residence: Number of years the applicant has been residing in their current residence.\n",
    "13. Loan_Default_Risk: Indicator of loan default risk, with values indicating whether the loan applicant is at risk of defaulting on the loan.\n",
    "\n",
    "The data was obtained from Kaggle datasets: https://www.kaggle.com/datasets/yaminh/applicant-details-for-loan-approve/data"
   ]
  },
  {
   "cell_type": "markdown",
   "id": "6cb09459",
   "metadata": {},
   "source": [
    "## Set Up \n",
    "#### Import packages"
   ]
  },
  {
   "cell_type": "code",
   "execution_count": 1,
   "id": "ca8039aa",
   "metadata": {},
   "outputs": [],
   "source": [
    "import matplotlib.pyplot as plt\n",
    "import pandas as pd\n",
    "import seaborn as sns\n",
    "\n",
    "from pyspark.sql import SparkSession\n",
    "from pyspark.ml.stat import Correlation\n",
    "from pyspark.ml.feature import VectorAssembler, MinMaxScaler, OneHotEncoder, StringIndexer\n",
    "from pyspark.ml import Pipeline\n",
    "from pyspark.ml.classification import LogisticRegression, RandomForestClassifier\n",
    "from pyspark.ml.evaluation import BinaryClassificationEvaluator \n",
    "from pyspark.ml.tuning import CrossValidator, ParamGridBuilder\n",
    "from pyspark.ml.feature import UnivariateFeatureSelector"
   ]
  },
  {
   "cell_type": "markdown",
   "id": "abd40e71",
   "metadata": {},
   "source": [
    "#### Start Spark session and import csv file as DataFrame"
   ]
  },
  {
   "cell_type": "code",
   "execution_count": 2,
   "id": "12e97cdc",
   "metadata": {
    "scrolled": true
   },
   "outputs": [
    {
     "name": "stderr",
     "output_type": "stream",
     "text": [
      "24/02/28 16:21:14 WARN Utils: Your hostname, MacBook-Pro.local resolves to a loopback address: 127.0.0.1; using 192.168.0.102 instead (on interface en0)\n",
      "24/02/28 16:21:14 WARN Utils: Set SPARK_LOCAL_IP if you need to bind to another address\n",
      "Setting default log level to \"WARN\".\n",
      "To adjust logging level use sc.setLogLevel(newLevel). For SparkR, use setLogLevel(newLevel).\n",
      "24/02/28 16:21:15 WARN NativeCodeLoader: Unable to load native-hadoop library for your platform... using builtin-java classes where applicable\n"
     ]
    },
    {
     "name": "stdout",
     "output_type": "stream",
     "text": [
      "-RECORD 0-----------------------------------------\n",
      " Applicant_ID                | 75722              \n",
      " Annual_Income               | 9657655            \n",
      " Applicant_Age               | 76                 \n",
      " Work_Experience             | 0                  \n",
      " Marital_Status              | single             \n",
      " House_Ownership             | rented             \n",
      " Vehicle_Ownership(car)      | no                 \n",
      " Occupation                  | Psychologist       \n",
      " Residence_City              | Jalandhar          \n",
      " Residence_State             | Punjab             \n",
      " Years_in_Current_Employment | 0                  \n",
      " Years_in_Current_Residence  | 12                 \n",
      " Loan_Default_Risk           | 0                  \n",
      "-RECORD 1-----------------------------------------\n",
      " Applicant_ID                | 80185              \n",
      " Annual_Income               | 9259353            \n",
      " Applicant_Age               | 37                 \n",
      " Work_Experience             | 18                 \n",
      " Marital_Status              | single             \n",
      " House_Ownership             | rented             \n",
      " Vehicle_Ownership(car)      | no                 \n",
      " Occupation                  | Petroleum_Engineer \n",
      " Residence_City              | Bally              \n",
      " Residence_State             | West_Bengal        \n",
      " Years_in_Current_Employment | 12                 \n",
      " Years_in_Current_Residence  | 11                 \n",
      " Loan_Default_Risk           | 0                  \n",
      "-RECORD 2-----------------------------------------\n",
      " Applicant_ID                | 19865              \n",
      " Annual_Income               | 1509721            \n",
      " Applicant_Age               | 66                 \n",
      " Work_Experience             | 8                  \n",
      " Marital_Status              | single             \n",
      " House_Ownership             | rented             \n",
      " Vehicle_Ownership(car)      | no                 \n",
      " Occupation                  | Drafter            \n",
      " Residence_City              | Indore             \n",
      " Residence_State             | Madhya_Pradesh     \n",
      " Years_in_Current_Employment | 4                  \n",
      " Years_in_Current_Residence  | 12                 \n",
      " Loan_Default_Risk           | 0                  \n",
      "only showing top 3 rows\n",
      "\n",
      " Number of partitions: 2\n"
     ]
    }
   ],
   "source": [
    "spark = SparkSession.builder.getOrCreate()\n",
    "\n",
    "raw_data = spark.read.option('header', True).option('inferSchema', True).csv('Applicant-details.csv')\n",
    "\n",
    "raw_data.show(3, vertical = True)\n",
    "\n",
    "print(f' Number of partitions: {raw_data.rdd.getNumPartitions()}')"
   ]
  },
  {
   "cell_type": "markdown",
   "id": "b75735f7",
   "metadata": {},
   "source": [
    "## Preliminary EDA\n",
    "#### Explore the dataset\n",
    "- Inspect the schema to check they are of the expected dtype\n",
    "- Explore the summary of the data to get a feel for the data and check for anomalies\n",
    "- Investigate categorical features to prepare them for plotting"
   ]
  },
  {
   "cell_type": "code",
   "execution_count": 3,
   "id": "45a82e52",
   "metadata": {
    "scrolled": true
   },
   "outputs": [
    {
     "name": "stdout",
     "output_type": "stream",
     "text": [
      "root\n",
      " |-- Applicant_ID: integer (nullable = true)\n",
      " |-- Annual_Income: integer (nullable = true)\n",
      " |-- Applicant_Age: integer (nullable = true)\n",
      " |-- Work_Experience: integer (nullable = true)\n",
      " |-- Marital_Status: string (nullable = true)\n",
      " |-- House_Ownership: string (nullable = true)\n",
      " |-- Vehicle_Ownership(car): string (nullable = true)\n",
      " |-- Occupation: string (nullable = true)\n",
      " |-- Residence_City: string (nullable = true)\n",
      " |-- Residence_State: string (nullable = true)\n",
      " |-- Years_in_Current_Employment: integer (nullable = true)\n",
      " |-- Years_in_Current_Residence: integer (nullable = true)\n",
      " |-- Loan_Default_Risk: integer (nullable = true)\n",
      "\n"
     ]
    },
    {
     "name": "stderr",
     "output_type": "stream",
     "text": [
      "24/02/28 16:21:24 WARN SparkStringUtils: Truncated the string representation of a plan since it was too large. This behavior can be adjusted by setting 'spark.sql.debug.maxToStringFields'.\n",
      "[Stage 3:=============================>                             (1 + 1) / 2]\r"
     ]
    },
    {
     "name": "stdout",
     "output_type": "stream",
     "text": [
      "-RECORD 0-------------------------------------------\n",
      " summary                     | count                \n",
      " Applicant_ID                | 100000               \n",
      " Annual_Income               | 100000               \n",
      " Applicant_Age               | 100000               \n",
      " Work_Experience             | 100000               \n",
      " Marital_Status              | 100000               \n",
      " House_Ownership             | 100000               \n",
      " Vehicle_Ownership(car)      | 100000               \n",
      " Occupation                  | 100000               \n",
      " Residence_City              | 100000               \n",
      " Residence_State             | 100000               \n",
      " Years_in_Current_Employment | 100000               \n",
      " Years_in_Current_Residence  | 100000               \n",
      " Loan_Default_Risk           | 100000               \n",
      "-RECORD 1-------------------------------------------\n",
      " summary                     | mean                 \n",
      " Applicant_ID                | 50000.5              \n",
      " Annual_Income               | 5001617.02566        \n",
      " Applicant_Age               | 49.9954              \n",
      " Work_Experience             | 10.11075             \n",
      " Marital_Status              | NULL                 \n",
      " House_Ownership             | NULL                 \n",
      " Vehicle_Ownership(car)      | NULL                 \n",
      " Occupation                  | NULL                 \n",
      " Residence_City              | NULL                 \n",
      " Residence_State             | NULL                 \n",
      " Years_in_Current_Employment | 6.34299              \n",
      " Years_in_Current_Residence  | 11.99602             \n",
      " Loan_Default_Risk           | 0.12997              \n",
      "-RECORD 2-------------------------------------------\n",
      " summary                     | stddev               \n",
      " Applicant_ID                | 28867.657796687756   \n",
      " Annual_Income               | 2876393.521180362    \n",
      " Applicant_Age               | 17.056050771754876   \n",
      " Work_Experience             | 5.996007334763679    \n",
      " Marital_Status              | NULL                 \n",
      " House_Ownership             | NULL                 \n",
      " Vehicle_Ownership(car)      | NULL                 \n",
      " Occupation                  | NULL                 \n",
      " Residence_City              | NULL                 \n",
      " Residence_State             | NULL                 \n",
      " Years_in_Current_Employment | 3.644941798699559    \n",
      " Years_in_Current_Residence  | 1.3968262851323725   \n",
      " Loan_Default_Risk           | 0.33627210691536413  \n",
      "-RECORD 3-------------------------------------------\n",
      " summary                     | min                  \n",
      " Applicant_ID                | 1                    \n",
      " Annual_Income               | 10310                \n",
      " Applicant_Age               | 21                   \n",
      " Work_Experience             | 0                    \n",
      " Marital_Status              | married              \n",
      " House_Ownership             | norent_noown         \n",
      " Vehicle_Ownership(car)      | no                   \n",
      " Occupation                  | Air_traffic_contr... \n",
      " Residence_City              | Adoni                \n",
      " Residence_State             | Andhra_Pradesh       \n",
      " Years_in_Current_Employment | 0                    \n",
      " Years_in_Current_Residence  | 10                   \n",
      " Loan_Default_Risk           | 0                    \n",
      "-RECORD 4-------------------------------------------\n",
      " summary                     | max                  \n",
      " Applicant_ID                | 100000               \n",
      " Annual_Income               | 9999180              \n",
      " Applicant_Age               | 79                   \n",
      " Work_Experience             | 20                   \n",
      " Marital_Status              | single               \n",
      " House_Ownership             | rented               \n",
      " Vehicle_Ownership(car)      | yes                  \n",
      " Occupation                  | Web_designer         \n",
      " Residence_City              | Yamunanagar          \n",
      " Residence_State             | West_Bengal          \n",
      " Years_in_Current_Employment | 14                   \n",
      " Years_in_Current_Residence  | 14                   \n",
      " Loan_Default_Risk           | 1                    \n",
      "\n"
     ]
    },
    {
     "name": "stderr",
     "output_type": "stream",
     "text": [
      "\r",
      "                                                                                \r"
     ]
    }
   ],
   "source": [
    "raw_data.printSchema()\n",
    "raw_data.describe().show(vertical = True)"
   ]
  },
  {
   "cell_type": "markdown",
   "id": "c4a7d311",
   "metadata": {},
   "source": [
    "#### Encode some of the categorical data\n",
    "- To start, I've only used a simple encoding on the features that have a relatively small number of unique values - this is simply so I can visually inspect these to check for anomalies or correlation. The remaining categorical features are encoded later."
   ]
  },
  {
   "cell_type": "code",
   "execution_count": 4,
   "id": "4f22152c",
   "metadata": {
    "scrolled": true
   },
   "outputs": [
    {
     "name": "stdout",
     "output_type": "stream",
     "text": [
      "+--------------+\n",
      "|Marital_Status|\n",
      "+--------------+\n",
      "|       married|\n",
      "|        single|\n",
      "+--------------+\n",
      "\n",
      "+---------------+\n",
      "|House_Ownership|\n",
      "+---------------+\n",
      "|   norent_noown|\n",
      "|         rented|\n",
      "|          owned|\n",
      "+---------------+\n",
      "\n",
      "+----------------------+\n",
      "|Vehicle_Ownership(car)|\n",
      "+----------------------+\n",
      "|                    no|\n",
      "|                   yes|\n",
      "+----------------------+\n",
      "\n",
      "+--------------------+\n",
      "|          Occupation|\n",
      "+--------------------+\n",
      "|           Physician|\n",
      "|           Scientist|\n",
      "|  Petroleum_Engineer|\n",
      "|    Technical_writer|\n",
      "|      Police_officer|\n",
      "|    Fashion_Designer|\n",
      "|        Army_officer|\n",
      "|   Chemical_engineer|\n",
      "|Chartered_Accountant|\n",
      "|              Lawyer|\n",
      "|Air_traffic_contr...|\n",
      "|                Chef|\n",
      "|    Flight_attendant|\n",
      "|Technology_specia...|\n",
      "|            Designer|\n",
      "|          Consultant|\n",
      "|             Drafter|\n",
      "|        Statistician|\n",
      "|Computer_hardware...|\n",
      "|          Magistrate|\n",
      "+--------------------+\n",
      "only showing top 20 rows\n",
      "\n",
      "+----------------+\n",
      "|  Residence_City|\n",
      "+----------------+\n",
      "|       Bangalore|\n",
      "|     Vasai-Virar|\n",
      "|  Aurangabad[39]|\n",
      "|         Udaipur|\n",
      "|         Raichur|\n",
      "|         Khandwa|\n",
      "|           Bhind|\n",
      "| Anantapuram[24]|\n",
      "|           Kochi|\n",
      "|       Singrauli|\n",
      "|       Faridabad|\n",
      "|        Tinsukia|\n",
      "|      Aurangabad|\n",
      "|          Kavali|\n",
      "|           Hosur|\n",
      "|     Bhubaneswar|\n",
      "|        Uluberia|\n",
      "|       Ozhukarai|\n",
      "|Pimpri-Chinchwad|\n",
      "|          Rampur|\n",
      "+----------------+\n",
      "only showing top 20 rows\n",
      "\n",
      "+----------------+\n",
      "| Residence_State|\n",
      "+----------------+\n",
      "|       Karnataka|\n",
      "|          Odisha|\n",
      "|          Kerala|\n",
      "|    Chhattisgarh|\n",
      "|          Punjab|\n",
      "|         Manipur|\n",
      "|Uttar_Pradesh[5]|\n",
      "|         Mizoram|\n",
      "|  Andhra_Pradesh|\n",
      "|      Puducherry|\n",
      "|         Haryana|\n",
      "|  Madhya_Pradesh|\n",
      "|       Jharkhand|\n",
      "|         Gujarat|\n",
      "|     West_Bengal|\n",
      "|      Tamil_Nadu|\n",
      "|   Uttar_Pradesh|\n",
      "|          Sikkim|\n",
      "|           Delhi|\n",
      "|      Chandigarh|\n",
      "+----------------+\n",
      "only showing top 20 rows\n",
      "\n"
     ]
    },
    {
     "name": "stderr",
     "output_type": "stream",
     "text": [
      "                                                                                \r"
     ]
    },
    {
     "name": "stdout",
     "output_type": "stream",
     "text": [
      "-RECORD 0-----------------------------------------\n",
      " Applicant_ID                | 75722              \n",
      " Annual_Income               | 9657655            \n",
      " Applicant_Age               | 76                 \n",
      " Work_Experience             | 0                  \n",
      " Marital_Status              | 0                  \n",
      " House_Ownership             | 1                  \n",
      " Vehicle_Ownership(car)      | 0                  \n",
      " Occupation                  | Psychologist       \n",
      " Residence_City              | Jalandhar          \n",
      " Residence_State             | Punjab             \n",
      " Years_in_Current_Employment | 0                  \n",
      " Years_in_Current_Residence  | 12                 \n",
      " Loan_Default_Risk           | 0                  \n",
      "-RECORD 1-----------------------------------------\n",
      " Applicant_ID                | 80185              \n",
      " Annual_Income               | 9259353            \n",
      " Applicant_Age               | 37                 \n",
      " Work_Experience             | 18                 \n",
      " Marital_Status              | 0                  \n",
      " House_Ownership             | 1                  \n",
      " Vehicle_Ownership(car)      | 0                  \n",
      " Occupation                  | Petroleum_Engineer \n",
      " Residence_City              | Bally              \n",
      " Residence_State             | West_Bengal        \n",
      " Years_in_Current_Employment | 12                 \n",
      " Years_in_Current_Residence  | 11                 \n",
      " Loan_Default_Risk           | 0                  \n",
      "-RECORD 2-----------------------------------------\n",
      " Applicant_ID                | 19865              \n",
      " Annual_Income               | 1509721            \n",
      " Applicant_Age               | 66                 \n",
      " Work_Experience             | 8                  \n",
      " Marital_Status              | 0                  \n",
      " House_Ownership             | 1                  \n",
      " Vehicle_Ownership(car)      | 0                  \n",
      " Occupation                  | Drafter            \n",
      " Residence_City              | Indore             \n",
      " Residence_State             | Madhya_Pradesh     \n",
      " Years_in_Current_Employment | 4                  \n",
      " Years_in_Current_Residence  | 12                 \n",
      " Loan_Default_Risk           | 0                  \n",
      "only showing top 3 rows\n",
      "\n"
     ]
    }
   ],
   "source": [
    "# Show the unique values of the categorical variables (I may be able to encode some before visualising the data)\n",
    "# I would use StringIndexer here but I want to have a specific encoding for each column, so instead I will map \n",
    "# these in their RDD form and convert back\n",
    "\n",
    "for col in raw_data.dtypes:\n",
    "    if col[1] != 'int':\n",
    "        raw_data.select(col[0]).distinct().show()\n",
    "\n",
    "# Mapping function\n",
    "\n",
    "def col_map(x):\n",
    "    if x == 'norent_noown' or x == 'single' or x == 'no':\n",
    "        return 0\n",
    "    elif x == 'rented' or x == 'married' or x == 'yes':\n",
    "        return 1\n",
    "    elif x == 'owned':\n",
    "        return 2\n",
    "    else:\n",
    "        return x\n",
    "\n",
    "# Convert DataFrame to RDD, apply mapping function, convert back\n",
    "# NOTE: I drop Residence_City as when encoded it makes the model perform worse - I may add this back in later\n",
    "\n",
    "data = raw_data.rdd.map(lambda x: (x[0], x[1], x[2], x[3], col_map(x[4]), col_map(x[5]), col_map(x[6]), x[7], \n",
    "                                   x[8], x[9], x[10], x[11], x[12])).toDF(raw_data.columns)#\\\n",
    "#                                     .drop('Residence_City').drop('Occupation').drop('Residence_State') #.drop('Applicant_ID')\n",
    "\n",
    "\n",
    "data.show(3, vertical = True)"
   ]
  },
  {
   "cell_type": "markdown",
   "id": "575fefa6",
   "metadata": {},
   "source": [
    "#### Display the distribution of the data for visual inspection"
   ]
  },
  {
   "cell_type": "code",
   "execution_count": 5,
   "id": "14cb0693",
   "metadata": {
    "scrolled": false
   },
   "outputs": [
    {
     "name": "stderr",
     "output_type": "stream",
     "text": [
      "                                                                                \r"
     ]
    },
    {
     "data": {
      "image/png": "[encoded data removed]",
      "text/plain": [
       "<Figure size 1600x2000 with 12 Axes>"
      ]
     },
     "metadata": {},
     "output_type": "display_data"
    }
   ],
   "source": [
    "# Split into numerical and categorical features - this will be useful for visualisation and encoding (later)\n",
    "\n",
    "num_features = [col[0] for col in data.dtypes if col[1] == 'bigint']\n",
    "cat_features = [col[0] for col in data.dtypes if col[1] == 'string']\n",
    "\n",
    "num_data = data.select(num_features)\n",
    "cat_data = data.select(cat_features)\n",
    "\n",
    "# Plot\n",
    "\n",
    "num_data.toPandas().hist(figsize=(16, 20),bins=100, xlabelsize=8, ylabelsize=8)\n",
    "plt.show()"
   ]
  },
  {
   "cell_type": "markdown",
   "id": "7abf9018",
   "metadata": {},
   "source": [
    "#### Create and plot a correlation matrix to visualise the correlation between variables\n",
    "- Highly correlated variables will be removed to improve model performance"
   ]
  },
  {
   "cell_type": "code",
   "execution_count": 6,
   "id": "f0c4abfb",
   "metadata": {
    "scrolled": false
   },
   "outputs": [
    {
     "name": "stderr",
     "output_type": "stream",
     "text": [
      "24/02/28 16:21:39 WARN InstanceBuilder: Failed to load implementation from:dev.ludovic.netlib.blas.JNIBLAS\n",
      "                                                                                \r"
     ]
    },
    {
     "data": {
      "image/png": "[encoded data removed]",
      "text/plain": [
       "<Figure size 640x480 with 2 Axes>"
      ]
     },
     "metadata": {},
     "output_type": "display_data"
    }
   ],
   "source": [
    "# First create a VectorAssembler to group the numerical data\n",
    "\n",
    "num_assembler = VectorAssembler(inputCols = num_features, outputCol = 'num_assembled_features')\n",
    "num_assembled_df = num_assembler.transform(num_data)\n",
    "\n",
    "# Calculate the correlation\n",
    "\n",
    "corr_vals = Correlation.corr(num_assembled_df.select('num_assembled_features'), 'num_assembled_features')\n",
    "\n",
    "corr_mat = corr_vals.collect()[0]['pearson({})'.format('num_assembled_features')].values.reshape(len(num_features),len(num_features))\n",
    "\n",
    "# Plot\n",
    "\n",
    "sns.heatmap(corr_mat)\n",
    "plt.xticks(range(len(num_features)),labels = num_features, rotation = 90)\n",
    "plt.yticks(range(len(num_features)),labels = num_features, rotation = 0)\n",
    "plt.show()\n",
    "\n",
    "# None of the variables are very correlated - no need to remove any\n",
    "\n",
    "# Remove the target variable from num_features for later on\n",
    "num_features.remove('Loan_Default_Risk')"
   ]
  },
  {
   "cell_type": "markdown",
   "id": "4d4a182e",
   "metadata": {},
   "source": [
    "\n",
    "## Prepare the data for modelling\n",
    "#### Split the data into training and test sets"
   ]
  },
  {
   "cell_type": "code",
   "execution_count": 7,
   "id": "2c4f588f",
   "metadata": {},
   "outputs": [
    {
     "name": "stderr",
     "output_type": "stream",
     "text": [
      "                                                                                \r"
     ]
    },
    {
     "name": "stdout",
     "output_type": "stream",
     "text": [
      "Training set: 70075 records\n"
     ]
    },
    {
     "name": "stderr",
     "output_type": "stream",
     "text": [
      "\r",
      "[Stage 34:>                                                         (0 + 2) / 2]\r"
     ]
    },
    {
     "name": "stdout",
     "output_type": "stream",
     "text": [
      "Test set: 29925 records\n"
     ]
    },
    {
     "name": "stderr",
     "output_type": "stream",
     "text": [
      "\r",
      "                                                                                \r"
     ]
    }
   ],
   "source": [
    "train, test = data.randomSplit([0.7, 0.3], seed = 24)\n",
    "\n",
    "# I separate the X (features) from the y (labels) as I don't want to scale the label values. For a binary \n",
    "# classification this doesn't matter as 0 or 1 will not change, but for regression or classification problems \n",
    "# with more than 2 possible outcomes I want to keep the output in the form that makes the most intuitive sense\n",
    "\n",
    "X_train = train.drop('Loan_Default_Risk')\n",
    "y_train = train.select('Applicant_ID','Loan_Default_Risk')\n",
    "\n",
    "X_test = test.drop('Loan_Default_Risk')\n",
    "y_test = test.select('Applicant_ID','Loan_Default_Risk')\n",
    "\n",
    "print(f'Training set: {X_train.count()} records')\n",
    "print(f'Test set: {X_test.count()} records')"
   ]
  },
  {
   "cell_type": "markdown",
   "id": "d93ae080",
   "metadata": {},
   "source": [
    "#### Transform data\n",
    "- One-Hot encoding for remaining string variables\n",
    "- Min-Max scaling for numerical data"
   ]
  },
  {
   "cell_type": "code",
   "execution_count": 8,
   "id": "a947aa57",
   "metadata": {},
   "outputs": [],
   "source": [
    "# Remove Applicant ID from num_features - We do not want to standardize this\n",
    "\n",
    "num_features.remove('Applicant_ID')\n",
    "\n",
    "# Create a StringIndexer and a OneHotEncoder to encode the remaining categorical variables\n",
    "\n",
    "string_indexer = [StringIndexer(inputCol = x, outputCol = f'{x}_si', handleInvalid = 'skip') \n",
    "                  for x in cat_features]\n",
    "\n",
    "one_hot_encoder = [OneHotEncoder(inputCols = [f'{x}_si' for x in cat_features], \n",
    "                     outputCols = [f'{x}_ohe' for x in cat_features])]\n",
    "\n",
    "# Create a VectorAssembler to group the encoded data\n",
    "\n",
    "assembler_input = num_features + [f'{x}_ohe' for x in cat_features]\n",
    "\n",
    "vector_assembler = [VectorAssembler(inputCols = assembler_input, outputCol = 'assembled_features')]\n",
    "\n",
    "# Create a MinMaxScaler to scale the grouped data\n",
    "\n",
    "scaler = [MinMaxScaler(inputCol = 'assembled_features', outputCol = 'scaled_features')]"
   ]
  },
  {
   "cell_type": "code",
   "execution_count": 9,
   "id": "980338c0",
   "metadata": {
    "scrolled": true
   },
   "outputs": [
    {
     "name": "stderr",
     "output_type": "stream",
     "text": [
      "                                                                                \r"
     ]
    },
    {
     "name": "stdout",
     "output_type": "stream",
     "text": [
      "-RECORD 0---------------------------------------------------------------------------------------------------------------------------------------------------------------\n",
      " Applicant_ID                | 1                                                                                                                                        \n",
      " Annual_Income               | 1303834                                                                                                                                  \n",
      " Applicant_Age               | 23                                                                                                                                       \n",
      " Work_Experience             | 3                                                                                                                                        \n",
      " Marital_Status              | 0                                                                                                                                        \n",
      " House_Ownership             | 1                                                                                                                                        \n",
      " Vehicle_Ownership(car)      | 0                                                                                                                                        \n",
      " Occupation                  | Mechanical_engineer                                                                                                                      \n",
      " Residence_City              | Rewa                                                                                                                                     \n",
      " Residence_State             | Madhya_Pradesh                                                                                                                           \n",
      " Years_in_Current_Employment | 3                                                                                                                                        \n",
      " Years_in_Current_Residence  | 13                                                                                                                                       \n",
      " Occupation_si               | 8.0                                                                                                                                      \n",
      " Residence_City_si           | 137.0                                                                                                                                    \n",
      " Residence_State_si          | 6.0                                                                                                                                      \n",
      " Occupation_ohe              | (50,[8],[1.0])                                                                                                                           \n",
      " Residence_City_ohe          | (316,[137],[1.0])                                                                                                                        \n",
      " Residence_State_ohe         | (28,[6],[1.0])                                                                                                                           \n",
      " assembled_features          | (402,[0,1,2,4,6,7,16,195,380],[1303834.0,23.0,3.0,1.0,3.0,13.0,1.0,1.0,1.0])                                                             \n",
      " scaled_features             | (402,[0,1,2,4,6,7,16,195,380],[0.12949652963748653,0.034482758620689655,0.15000000000000002,0.5,0.21428571428571427,0.75,1.0,1.0,1.0])   \n",
      "-RECORD 1---------------------------------------------------------------------------------------------------------------------------------------------------------------\n",
      " Applicant_ID                | 5                                                                                                                                        \n",
      " Annual_Income               | 5768871                                                                                                                                  \n",
      " Applicant_Age               | 47                                                                                                                                       \n",
      " Work_Experience             | 11                                                                                                                                       \n",
      " Marital_Status              | 0                                                                                                                                        \n",
      " House_Ownership             | 1                                                                                                                                        \n",
      " Vehicle_Ownership(car)      | 0                                                                                                                                        \n",
      " Occupation                  | Civil_servant                                                                                                                            \n",
      " Residence_City              | Tiruchirappalli[10]                                                                                                                      \n",
      " Residence_State             | Tamil_Nadu                                                                                                                               \n",
      " Years_in_Current_Employment | 3                                                                                                                                        \n",
      " Years_in_Current_Residence  | 14                                                                                                                                       \n",
      " Occupation_si               | 48.0                                                                                                                                     \n",
      " Residence_City_si           | 145.0                                                                                                                                    \n",
      " Residence_State_si          | 5.0                                                                                                                                      \n",
      " Occupation_ohe              | (50,[48],[1.0])                                                                                                                          \n",
      " Residence_City_ohe          | (316,[145],[1.0])                                                                                                                        \n",
      " Residence_State_ohe         | (28,[5],[1.0])                                                                                                                           \n",
      " assembled_features          | (402,[0,1,2,4,6,7,56,203,379],[5768871.0,47.0,11.0,1.0,3.0,14.0,1.0,1.0,1.0])                                                            \n",
      " scaled_features             | (402,[0,1,2,4,6,7,56,203,379],[0.5764977419868313,0.4482758620689655,0.55,0.5,0.21428571428571427,1.0,1.0,1.0,1.0])                      \n",
      "-RECORD 2---------------------------------------------------------------------------------------------------------------------------------------------------------------\n",
      " Applicant_ID                | 7                                                                                                                                        \n",
      " Annual_Income               | 3954973                                                                                                                                  \n",
      " Applicant_Age               | 58                                                                                                                                       \n",
      " Work_Experience             | 14                                                                                                                                       \n",
      " Marital_Status              | 1                                                                                                                                        \n",
      " House_Ownership             | 1                                                                                                                                        \n",
      " Vehicle_Ownership(car)      | 0                                                                                                                                        \n",
      " Occupation                  | Librarian                                                                                                                                \n",
      " Residence_City              | Tiruppur                                                                                                                                 \n",
      " Residence_State             | Tamil_Nadu                                                                                                                               \n",
      " Years_in_Current_Employment | 8                                                                                                                                        \n",
      " Years_in_Current_Residence  | 12                                                                                                                                       \n",
      " Occupation_si               | 42.0                                                                                                                                     \n",
      " Residence_City_si           | 133.0                                                                                                                                    \n",
      " Residence_State_si          | 5.0                                                                                                                                      \n",
      " Occupation_ohe              | (50,[42],[1.0])                                                                                                                          \n",
      " Residence_City_ohe          | (316,[133],[1.0])                                                                                                                        \n",
      " Residence_State_ohe         | (28,[5],[1.0])                                                                                                                           \n",
      " assembled_features          | (402,[0,1,2,3,4,6,7,50,191,379],[3954973.0,58.0,14.0,1.0,1.0,8.0,12.0,1.0,1.0,1.0])                                                      \n",
      " scaled_features             | (402,[0,1,2,3,4,6,7,50,191,379],[0.3949058301890004,0.6379310344827586,0.7000000000000001,1.0,0.5,0.5714285714285714,0.5,1.0,1.0,1.0])   \n",
      "-RECORD 3---------------------------------------------------------------------------------------------------------------------------------------------------------------\n",
      " Applicant_ID                | 8                                                                                                                                        \n",
      " Annual_Income               | 1706172                                                                                                                                  \n",
      " Applicant_Age               | 33                                                                                                                                       \n",
      " Work_Experience             | 2                                                                                                                                        \n",
      " Marital_Status              | 0                                                                                                                                        \n",
      " House_Ownership             | 1                                                                                                                                        \n",
      " Vehicle_Ownership(car)      | 0                                                                                                                                        \n",
      " Occupation                  | Economist                                                                                                                                \n",
      " Residence_City              | Jamnagar                                                                                                                                 \n",
      " Residence_State             | Gujarat                                                                                                                                  \n",
      " Years_in_Current_Employment | 2                                                                                                                                        \n",
      " Years_in_Current_Residence  | 14                                                                                                                                       \n",
      " Occupation_si               | 45.0                                                                                                                                     \n",
      " Residence_City_si           | 104.0                                                                                                                                    \n",
      " Residence_State_si          | 8.0                                                                                                                                      \n",
      " Occupation_ohe              | (50,[45],[1.0])                                                                                                                          \n",
      " Residence_City_ohe          | (316,[104],[1.0])                                                                                                                        \n",
      " Residence_State_ohe         | (28,[8],[1.0])                                                                                                                           \n",
      " assembled_features          | (402,[0,1,2,4,6,7,53,162,382],[1706172.0,33.0,2.0,1.0,2.0,14.0,1.0,1.0,1.0])                                                             \n",
      " scaled_features             | (402,[0,1,2,4,6,7,53,162,382],[0.16977515975280488,0.20689655172413793,0.1,0.5,0.14285714285714285,1.0,1.0,1.0,1.0])                     \n",
      "-RECORD 4---------------------------------------------------------------------------------------------------------------------------------------------------------------\n",
      " Applicant_ID                | 9                                                                                                                                        \n",
      " Annual_Income               | 7566849                                                                                                                                  \n",
      " Applicant_Age               | 24                                                                                                                                       \n",
      " Work_Experience             | 17                                                                                                                                       \n",
      " Marital_Status              | 0                                                                                                                                        \n",
      " House_Ownership             | 1                                                                                                                                        \n",
      " Vehicle_Ownership(car)      | 1                                                                                                                                        \n",
      " Occupation                  | Flight_attendant                                                                                                                         \n",
      " Residence_City              | Kota[6]                                                                                                                                  \n",
      " Residence_State             | Rajasthan                                                                                                                                \n",
      " Years_in_Current_Employment | 11                                                                                                                                       \n",
      " Years_in_Current_Residence  | 11                                                                                                                                       \n",
      " Occupation_si               | 18.0                                                                                                                                     \n",
      " Residence_City_si           | 265.0                                                                                                                                    \n",
      " Residence_State_si          | 10.0                                                                                                                                     \n",
      " Occupation_ohe              | (50,[18],[1.0])                                                                                                                          \n",
      " Residence_City_ohe          | (316,[265],[1.0])                                                                                                                        \n",
      " Residence_State_ohe         | (28,[10],[1.0])                                                                                                                          \n",
      " assembled_features          | (402,[0,1,2,4,5,6,7,26,323,384],[7566849.0,24.0,17.0,1.0,1.0,11.0,11.0,1.0,1.0,1.0])                                                     \n",
      " scaled_features             | (402,[0,1,2,4,5,6,7,26,323,384],[0.7564958799143446,0.05172413793103448,0.8500000000000001,0.5,1.0,0.7857142857142857,0.25,1.0,1.0,1.0]) \n",
      "only showing top 5 rows\n",
      "\n"
     ]
    },
    {
     "name": "stderr",
     "output_type": "stream",
     "text": [
      "\r",
      "[Stage 49:>                                                         (0 + 1) / 1]\r",
      "\r",
      "                                                                                \r"
     ]
    }
   ],
   "source": [
    "# Create a Pipeline to carry out the data preprocessing steps created above\n",
    "\n",
    "stages = string_indexer + one_hot_encoder + vector_assembler + scaler\n",
    "\n",
    "pipeline = Pipeline(stages = stages)\n",
    "\n",
    "# Fit on training data only\n",
    "\n",
    "preprocess = pipeline.fit(X_train)\n",
    "\n",
    "# Execute transformation on both train and test data\n",
    "\n",
    "X_train_scaled = preprocess.transform(X_train)\n",
    "X_test_scaled = preprocess.transform(X_test)\n",
    "\n",
    "X_train_scaled.show(5, vertical = True, truncate = False)"
   ]
  },
  {
   "cell_type": "markdown",
   "id": "2ebe9700",
   "metadata": {},
   "source": [
    "#### Reformat the data in a form that the model will accept"
   ]
  },
  {
   "cell_type": "code",
   "execution_count": 10,
   "id": "61118a01",
   "metadata": {},
   "outputs": [],
   "source": [
    "# Reformat the data into DataFrames of just the vectorised features and the labels\n",
    "\n",
    "train_scaled = X_train_scaled.select('Applicant_ID','scaled_features')\\\n",
    "                                        .join(y_train,\n",
    "                                              X_train_scaled.Applicant_ID == y_train.Applicant_ID,'inner')\\\n",
    "                                        .drop('Applicant_ID')\\\n",
    "                                        .withColumnRenamed('scaled_features', 'features')\\\n",
    "                                        .withColumnRenamed('Loan_Default_Risk', 'label')\n",
    "\n",
    "\n",
    "test_scaled = X_test_scaled.select('Applicant_ID','scaled_features')\\\n",
    "                                        .join(y_test, \n",
    "                                              X_test_scaled.Applicant_ID == y_test.Applicant_ID,'inner')\\\n",
    "                                        .drop('Applicant_ID')\\\n",
    "                                        .withColumnRenamed('scaled_features', 'features')\\\n",
    "                                        .withColumnRenamed('Loan_Default_Risk', 'label')"
   ]
  },
  {
   "cell_type": "markdown",
   "id": "cc0bf1c6",
   "metadata": {},
   "source": [
    "#### I use univariate feature selection to reduce the number of features to see if this improves model performance "
   ]
  },
  {
   "cell_type": "code",
   "execution_count": 11,
   "id": "1c194756",
   "metadata": {},
   "outputs": [
    {
     "name": "stderr",
     "output_type": "stream",
     "text": [
      "                                                                                \r"
     ]
    }
   ],
   "source": [
    "# Initialise\n",
    "\n",
    "selector = UnivariateFeatureSelector(outputCol = 'selected_features').setFeatureType('continuous')\\\n",
    "                                                                        .setLabelType('categorical')\\\n",
    "                                                                        .setSelectionThreshold(200)\n",
    "\n",
    "# Fit to training data and apply transformation \n",
    "\n",
    "feature_model = selector.fit(train_scaled)\n",
    "\n",
    "train_reduced = feature_model.transform(train_scaled).drop('features')\\\n",
    "                                                      .withColumnRenamed('selected_features', 'features')\n",
    "test_reduced = feature_model.transform(test_scaled).drop('features')\\\n",
    "                                                    .withColumnRenamed('selected_features', 'features')\n"
   ]
  },
  {
   "cell_type": "markdown",
   "id": "59a319e6",
   "metadata": {},
   "source": [
    "## Creating and Refining the Model\n",
    "#### Create the cross-validation framework for the different model types, here I use Logistic Regression and Random Forest Classification "
   ]
  },
  {
   "cell_type": "code",
   "execution_count": 12,
   "id": "4abac422",
   "metadata": {},
   "outputs": [
    {
     "name": "stderr",
     "output_type": "stream",
     "text": [
      "[Stage 1004:============================>                           (1 + 1) / 2]\r"
     ]
    }
   ],
   "source": [
    "# Initialise model\n",
    "\n",
    "lr = LogisticRegression()\n",
    "\n",
    "# Generate parameter grid to test\n",
    "\n",
    "params_lr = ParamGridBuilder().addGrid(lr.regParam,[0.1, 0.2])\\\n",
    "                                .addGrid(lr.elasticNetParam, [0.1, 0.2])\\\n",
    "                                .addGrid(lr.maxIter, [10])\\\n",
    "                                .build()\n",
    "\n",
    "# Initialise cross-validator\n",
    "\n",
    "crossval_lr = CrossValidator(estimator = lr,\n",
    "                             estimatorParamMaps = params_lr, \n",
    "                             evaluator = BinaryClassificationEvaluator(),\n",
    "                             numFolds = 3,\n",
    "                             seed = 24)\n",
    "\n",
    "# Train and predict for full data\n",
    "\n",
    "lr_model = crossval_lr.fit(train_scaled)\n",
    "\n",
    "lr_results = lr_model.transform(test_scaled)\n",
    "\n",
    "# Train and predict for reduced features\n",
    "\n",
    "lr_reduced_model = crossval_lr.fit(train_reduced)\n",
    "\n",
    "lr_reduced_results = lr_reduced_model.transform(test_reduced)"
   ]
  },
  {
   "cell_type": "code",
   "execution_count": 13,
   "id": "af41d996",
   "metadata": {},
   "outputs": [
    {
     "name": "stderr",
     "output_type": "stream",
     "text": [
      "[Stage 3186:============================>                           (1 + 1) / 2]\r"
     ]
    }
   ],
   "source": [
    "# Initialise model\n",
    "\n",
    "rf = RandomForestClassifier(seed = 24)\n",
    "\n",
    "# Generate parameter grid to test\n",
    "\n",
    "params_rf = ParamGridBuilder().addGrid(rf.numTrees, [20, 30])\\\n",
    "                                .addGrid(rf.impurity, ['gini', 'entropy'])\\\n",
    "                                .addGrid(rf.minInstancesPerNode, [1, 3])\\\n",
    "                                .build()\n",
    "\n",
    "# Initialise cross-validator\n",
    "\n",
    "crossval_rf = CrossValidator(estimator = rf,\n",
    "                             estimatorParamMaps = params_rf, \n",
    "                             evaluator = BinaryClassificationEvaluator(),\n",
    "                             numFolds = 3,\n",
    "                             seed = 24)\n",
    "\n",
    "# Train and predict for full data\n",
    "\n",
    "rf_model = crossval_rf.fit(train_scaled)\n",
    "\n",
    "rf_results = rf_model.transform(test_scaled)\n",
    "\n",
    "# Train and predict for reduced features\n",
    "\n",
    "rf_reduced_model = crossval_rf.fit(train_reduced)\n",
    "\n",
    "rf_reduced_results = rf_reduced_model.transform(test_reduced)"
   ]
  },
  {
   "cell_type": "markdown",
   "id": "4cb4ded3",
   "metadata": {},
   "source": [
    "#### Evaluating performance"
   ]
  },
  {
   "cell_type": "code",
   "execution_count": 14,
   "id": "404dd907",
   "metadata": {},
   "outputs": [],
   "source": [
    "# Here I define F1 score and Accuracy as metrics for model performance\n",
    "\n",
    "def f1_score(results):\n",
    "    \n",
    "    try:\n",
    "        true_positives = results.filter(results.prediction == 1)\\\n",
    "                                .filter(results.label == 1)\\\n",
    "                                .count()\n",
    "        false_positives = results.filter(results.prediction == 1)\\\n",
    "                                    .filter(results.label == 0)\\\n",
    "                                    .count()\n",
    "        false_negatives = results.filter(results.prediction == 0)\\\n",
    "                                    .filter(results.label == 1)\\\n",
    "                                    .count()\n",
    "\n",
    "        return true_positives/(true_positives + 0.5*(false_positives + false_negatives))\n",
    "    except:\n",
    "        print('Error - Input results DataFrame')\n",
    "        \n",
    "def accuracy(results):\n",
    "    \n",
    "    try:\n",
    "        true_positives = results.filter(results.prediction == 1)\\\n",
    "                                .filter(results.label == 1)\\\n",
    "                                .count()\n",
    "        true_negatives = results.filter(results.prediction == 0)\\\n",
    "                                    .filter(results.label == 0)\\\n",
    "                                    .count()\n",
    "        total = results.count()\n",
    "        \n",
    "        return (true_positives + true_negatives)/total\n",
    "    except:\n",
    "        print('Error - Input results DataFrame')"
   ]
  },
  {
   "cell_type": "code",
   "execution_count": 16,
   "id": "9e3b6ed9",
   "metadata": {
    "scrolled": false
   },
   "outputs": [
    {
     "name": "stdout",
     "output_type": "stream",
     "text": [
      "Scores\n",
      "---------------\n",
      "With All Features:\n"
     ]
    },
    {
     "name": "stderr",
     "output_type": "stream",
     "text": [
      "                                                                                \r"
     ]
    },
    {
     "name": "stdout",
     "output_type": "stream",
     "text": [
      "Logistic Regression Accuracy: 0.8702756892230576\n"
     ]
    },
    {
     "name": "stderr",
     "output_type": "stream",
     "text": [
      "                                                                                \r"
     ]
    },
    {
     "name": "stdout",
     "output_type": "stream",
     "text": [
      "Logistic Regression F1: 0.0\n"
     ]
    },
    {
     "name": "stderr",
     "output_type": "stream",
     "text": [
      "                                                                                \r"
     ]
    },
    {
     "name": "stdout",
     "output_type": "stream",
     "text": [
      "Random Forest Accuracy: 0.8702756892230576\n"
     ]
    },
    {
     "name": "stderr",
     "output_type": "stream",
     "text": [
      "                                                                                \r"
     ]
    },
    {
     "name": "stdout",
     "output_type": "stream",
     "text": [
      "Random Forest F1: 0.0\n",
      "---------------\n",
      "With Reduced Features:\n"
     ]
    },
    {
     "name": "stderr",
     "output_type": "stream",
     "text": [
      "                                                                                \r"
     ]
    },
    {
     "name": "stdout",
     "output_type": "stream",
     "text": [
      "Logistic Regression Accuracy: 0.8702756892230576\n"
     ]
    },
    {
     "name": "stderr",
     "output_type": "stream",
     "text": [
      "                                                                                \r"
     ]
    },
    {
     "name": "stdout",
     "output_type": "stream",
     "text": [
      "Logistic Regression F1: 0.0\n"
     ]
    },
    {
     "name": "stderr",
     "output_type": "stream",
     "text": [
      "                                                                                \r"
     ]
    },
    {
     "name": "stdout",
     "output_type": "stream",
     "text": [
      "Random Forest Accuracy: 0.8702756892230576\n"
     ]
    },
    {
     "name": "stderr",
     "output_type": "stream",
     "text": [
      "                                                                                \r"
     ]
    },
    {
     "name": "stdout",
     "output_type": "stream",
     "text": [
      "Random Forest F1: 0.0\n"
     ]
    }
   ],
   "source": [
    "# Print Scores\n",
    "print('Scores')\n",
    "\n",
    "print('---------------')\n",
    "\n",
    "print('With All Features:')\n",
    "print(f'Logistic Regression Accuracy: {accuracy(lr_results)}')\n",
    "print(f'Logistic Regression F1: {f1_score(lr_results)}')\n",
    "print(f'Random Forest Accuracy: {accuracy(rf_results)}')\n",
    "print(f'Random Forest F1: {f1_score(rf_results)}')\n",
    "\n",
    "print('---------------')\n",
    "\n",
    "print('With Reduced Features:')\n",
    "print(f'Logistic Regression Accuracy: {accuracy(lr_reduced_results)}')\n",
    "print(f'Logistic Regression F1: {f1_score(lr_reduced_results)}')\n",
    "print(f'Random Forest Accuracy: {accuracy(rf_reduced_results)}')\n",
    "print(f'Random Forest F1: {f1_score(rf_reduced_results)}')\n"
   ]
  },
  {
   "cell_type": "code",
   "execution_count": 18,
   "id": "2911b0df",
   "metadata": {
    "scrolled": false
   },
   "outputs": [
    {
     "name": "stdout",
     "output_type": "stream",
     "text": [
      "Actual:\n"
     ]
    },
    {
     "name": "stderr",
     "output_type": "stream",
     "text": [
      "                                                                                \r"
     ]
    },
    {
     "name": "stdout",
     "output_type": "stream",
     "text": [
      "+-----+-----+\n",
      "|label|count|\n",
      "+-----+-----+\n",
      "|    0|26043|\n",
      "|    1| 3882|\n",
      "+-----+-----+\n",
      "\n",
      "Logistic Regression (Whole):\n"
     ]
    },
    {
     "name": "stderr",
     "output_type": "stream",
     "text": [
      "                                                                                \r"
     ]
    },
    {
     "name": "stdout",
     "output_type": "stream",
     "text": [
      "+----------+-----+\n",
      "|prediction|count|\n",
      "+----------+-----+\n",
      "|       0.0|29925|\n",
      "+----------+-----+\n",
      "\n",
      "Logistic Regression (Reduced Features):\n"
     ]
    },
    {
     "name": "stderr",
     "output_type": "stream",
     "text": [
      "                                                                                \r"
     ]
    },
    {
     "name": "stdout",
     "output_type": "stream",
     "text": [
      "+----------+-----+\n",
      "|prediction|count|\n",
      "+----------+-----+\n",
      "|       0.0|29925|\n",
      "+----------+-----+\n",
      "\n",
      "Random Forest (Whole):\n"
     ]
    },
    {
     "name": "stderr",
     "output_type": "stream",
     "text": [
      "                                                                                \r"
     ]
    },
    {
     "name": "stdout",
     "output_type": "stream",
     "text": [
      "+----------+-----+\n",
      "|prediction|count|\n",
      "+----------+-----+\n",
      "|       0.0|29925|\n",
      "+----------+-----+\n",
      "\n",
      "Random Forest (Reduced Features):\n"
     ]
    },
    {
     "name": "stderr",
     "output_type": "stream",
     "text": [
      "                                                                                \r"
     ]
    },
    {
     "name": "stdout",
     "output_type": "stream",
     "text": [
      "+----------+-----+\n",
      "|prediction|count|\n",
      "+----------+-----+\n",
      "|       0.0|29925|\n",
      "+----------+-----+\n",
      "\n"
     ]
    }
   ],
   "source": [
    "# Investigation into the predicted results of each model\n",
    "\n",
    "print('Actual:')\n",
    "test_scaled.groupBy('label').count().show()\n",
    "\n",
    "print('Logistic Regression (Whole):')\n",
    "lr_results.groupBy('prediction').count().show()\n",
    "\n",
    "print('Logistic Regression (Reduced Features):')\n",
    "lr_reduced_results.groupBy('prediction').count().show()\n",
    "\n",
    "print('Random Forest (Whole):')\n",
    "rf_results.groupBy('prediction').count().show()\n",
    "\n",
    "print('Random Forest (Reduced Features):')\n",
    "rf_reduced_results.groupBy('prediction').count().show()"
   ]
  },
  {
   "cell_type": "code",
   "execution_count": 19,
   "id": "eb1d4f79",
   "metadata": {},
   "outputs": [],
   "source": [
    "spark.stop()"
   ]
  }
 ],
 "metadata": {
  "kernelspec": {
   "display_name": "Python 3 (ipykernel)",
   "language": "python",
   "name": "python3"
  },
  "language_info": {
   "codemirror_mode": {
    "name": "ipython",
    "version": 3
   },
   "file_extension": ".py",
   "mimetype": "text/x-python",
   "name": "python",
   "nbconvert_exporter": "python",
   "pygments_lexer": "ipython3",
   "version": "3.9.13"
  }
 },
 "nbformat": 4,
 "nbformat_minor": 5
}
